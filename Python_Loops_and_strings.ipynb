{
  "nbformat": 4,
  "nbformat_minor": 0,
  "metadata": {
    "colab": {
      "provenance": [],
      "collapsed_sections": [
        "3KQCpidRqL5P",
        "7zeN4XXszQN6",
        "ZakZKMXC0Tem",
        "lvpc4GlC_uei",
        "HyEVY7nRPFnI"
      ]
    },
    "kernelspec": {
      "name": "python3",
      "display_name": "Python 3"
    },
    "language_info": {
      "name": "python"
    }
  },
  "cells": [
    {
      "cell_type": "markdown",
      "source": [
        "# loops"
      ],
      "metadata": {
        "id": "3KQCpidRqL5P"
      }
    },
    {
      "cell_type": "code",
      "source": [
        "# for loop"
      ],
      "metadata": {
        "id": "99bIFWhoqLiV"
      },
      "execution_count": null,
      "outputs": []
    },
    {
      "cell_type": "code",
      "source": [
        "for a in range(1,6):\n",
        "  print( a , \"Hello world \")"
      ],
      "metadata": {
        "colab": {
          "base_uri": "https://localhost:8080/"
        },
        "id": "2XJMY0Ziqyv-",
        "outputId": "334fe5a6-eec5-40be-8927-ca530352a752"
      },
      "execution_count": null,
      "outputs": [
        {
          "output_type": "stream",
          "name": "stdout",
          "text": [
            "1 Hello world \n",
            "2 Hello world \n",
            "3 Hello world \n",
            "4 Hello world \n",
            "5 Hello world \n"
          ]
        }
      ]
    },
    {
      "cell_type": "code",
      "source": [
        "for i in range(2,6,2):\n",
        "  print(i)"
      ],
      "metadata": {
        "colab": {
          "base_uri": "https://localhost:8080/"
        },
        "id": "Ge4iEY6jq9UC",
        "outputId": "fb569bf5-bc53-493d-d8ab-7ad2070ae33d"
      },
      "execution_count": null,
      "outputs": [
        {
          "output_type": "stream",
          "name": "stdout",
          "text": [
            "2\n",
            "4\n"
          ]
        }
      ]
    },
    {
      "cell_type": "code",
      "source": [
        "n=7\n",
        "for i in range(1,11):\n",
        "  print(n,\"*\",i,\"=\",n*i)\n"
      ],
      "metadata": {
        "colab": {
          "base_uri": "https://localhost:8080/"
        },
        "id": "iS1Mn05AreRe",
        "outputId": "cc1e77fa-7cc1-43d1-d60c-f481cf5c19a5"
      },
      "execution_count": null,
      "outputs": [
        {
          "output_type": "stream",
          "name": "stdout",
          "text": [
            "7 * 1 = 7\n",
            "7 * 2 = 14\n",
            "7 * 3 = 21\n",
            "7 * 4 = 28\n",
            "7 * 5 = 35\n",
            "7 * 6 = 42\n",
            "7 * 7 = 49\n",
            "7 * 8 = 56\n",
            "7 * 9 = 63\n",
            "7 * 10 = 70\n"
          ]
        }
      ]
    },
    {
      "cell_type": "code",
      "source": [
        "n=input(\"enter the number\")\n",
        "n=int(n)\n",
        "for i in range(1,11):\n",
        "  print(n,\"*\",i,\"=\",n*i)"
      ],
      "metadata": {
        "colab": {
          "base_uri": "https://localhost:8080/"
        },
        "id": "ASQOpD1psHwo",
        "outputId": "d83cadbc-6df9-4c31-e706-dd7965591091"
      },
      "execution_count": null,
      "outputs": [
        {
          "output_type": "stream",
          "name": "stdout",
          "text": [
            "enter the number11\n",
            "11 * 1 = 11\n",
            "11 * 2 = 22\n",
            "11 * 3 = 33\n",
            "11 * 4 = 44\n",
            "11 * 5 = 55\n",
            "11 * 6 = 66\n",
            "11 * 7 = 77\n",
            "11 * 8 = 88\n",
            "11 * 9 = 99\n",
            "11 * 10 = 110\n"
          ]
        }
      ]
    },
    {
      "cell_type": "code",
      "source": [
        "# while loop"
      ],
      "metadata": {
        "id": "GjEd_ppTs6rR"
      },
      "execution_count": null,
      "outputs": []
    },
    {
      "cell_type": "code",
      "source": [
        "n=0\n",
        "while n<5:\n",
        "  print(n)\n",
        "  n=n+1"
      ],
      "metadata": {
        "colab": {
          "base_uri": "https://localhost:8080/"
        },
        "id": "0ueN7LaGs9jc",
        "outputId": "8c1d25ad-8248-4ce1-f131-7cbcbc12ad65"
      },
      "execution_count": null,
      "outputs": [
        {
          "output_type": "stream",
          "name": "stdout",
          "text": [
            "0\n",
            "1\n",
            "2\n",
            "3\n",
            "4\n"
          ]
        }
      ]
    },
    {
      "cell_type": "code",
      "source": [
        "n=1\n",
        "a=4\n",
        "while n<=10:\n",
        "  print(a,\"*\",n,\"=\",n*a)\n",
        "  n+=2"
      ],
      "metadata": {
        "colab": {
          "base_uri": "https://localhost:8080/"
        },
        "id": "T6EoYiQKtYSh",
        "outputId": "278d6ee2-a846-45cb-c17a-97fda665a829"
      },
      "execution_count": null,
      "outputs": [
        {
          "output_type": "stream",
          "name": "stdout",
          "text": [
            "4 * 1 = 4\n",
            "4 * 3 = 12\n",
            "4 * 5 = 20\n",
            "4 * 7 = 28\n",
            "4 * 9 = 36\n"
          ]
        }
      ]
    },
    {
      "cell_type": "code",
      "source": [
        "# while true\n",
        "# it is a infinite loop stop y break statement"
      ],
      "metadata": {
        "id": "WV0Pyo_lty7c"
      },
      "execution_count": null,
      "outputs": []
    },
    {
      "cell_type": "code",
      "source": [
        "while True:\n",
        "  print(\"hello \")"
      ],
      "metadata": {
        "id": "NM1aK4OyuE-X"
      },
      "execution_count": null,
      "outputs": []
    },
    {
      "cell_type": "code",
      "source": [
        "while True:\n",
        "  num1 =int(input(\"Enter a number 1 : \"))\n",
        "  num2 =int(input(\"Enter a number 2 : \"))\n",
        "  print(\"sum =\",num1+num2 )\n",
        "  repeat=input(\"Do you want to stop thr program ? (s/n): \")\n",
        "  if repeat==\"s\":\n",
        "    break"
      ],
      "metadata": {
        "colab": {
          "base_uri": "https://localhost:8080/"
        },
        "id": "swR7ZWN0uYpG",
        "outputId": "e2d2bd61-8b1b-4fcc-b787-2255a6c04a62"
      },
      "execution_count": null,
      "outputs": [
        {
          "name": "stdout",
          "output_type": "stream",
          "text": [
            "Enter a number 1 : 1\n",
            "Enter a number 2 : 2\n",
            "sum = 3\n",
            "Do you want to stop thr program ? (s/n): s\n"
          ]
        }
      ]
    },
    {
      "cell_type": "code",
      "source": [
        "# nested loop\n",
        "# a loop inside a loop"
      ],
      "metadata": {
        "id": "qjiYAyBRu1Ne"
      },
      "execution_count": null,
      "outputs": []
    },
    {
      "cell_type": "code",
      "source": [
        "for i in range (1,4):\n",
        "  for j in range(1,11):\n",
        "    print (j,end=\"\")\n",
        "\n",
        "  print(\"\")"
      ],
      "metadata": {
        "colab": {
          "base_uri": "https://localhost:8080/"
        },
        "id": "9kya7TH-v2ut",
        "outputId": "c052e6b2-2ffc-4428-fb81-d57cd57fb266"
      },
      "execution_count": null,
      "outputs": [
        {
          "output_type": "stream",
          "name": "stdout",
          "text": [
            "12345678910\n",
            "12345678910\n",
            "12345678910\n"
          ]
        }
      ]
    },
    {
      "cell_type": "code",
      "source": [
        "for i in range (1,6):\n",
        "  for j in range (1,i+1):\n",
        "    print(i,end=\" \")\n",
        "  print()"
      ],
      "metadata": {
        "colab": {
          "base_uri": "https://localhost:8080/"
        },
        "id": "JsaZktlDwjM5",
        "outputId": "d925a962-ccac-4407-8310-0267f437c227"
      },
      "execution_count": null,
      "outputs": [
        {
          "output_type": "stream",
          "name": "stdout",
          "text": [
            "1 \n",
            "2 2 \n",
            "3 3 3 \n",
            "4 4 4 4 \n",
            "5 5 5 5 5 \n"
          ]
        }
      ]
    },
    {
      "cell_type": "code",
      "source": [
        "# for loop with conditional statement"
      ],
      "metadata": {
        "id": "faxEdDRaxSpf"
      },
      "execution_count": null,
      "outputs": []
    },
    {
      "cell_type": "code",
      "source": [
        "for i in range (1,11):\n",
        "  if i==3:\n",
        "    print(\"add this number in favs .\")\n",
        "  else :\n",
        "    print(i)"
      ],
      "metadata": {
        "colab": {
          "base_uri": "https://localhost:8080/"
        },
        "id": "6TXb56kNxgNT",
        "outputId": "38003e4d-8138-449f-ef2c-306a27dbd04b"
      },
      "execution_count": null,
      "outputs": [
        {
          "output_type": "stream",
          "name": "stdout",
          "text": [
            "1\n",
            "2\n",
            "add this number in favs .\n",
            "4\n",
            "5\n",
            "6\n",
            "7\n",
            "8\n",
            "9\n",
            "10\n"
          ]
        }
      ]
    },
    {
      "cell_type": "code",
      "source": [
        "for i in range (1,100):\n",
        "  if i%8==0 and i%12==0:\n",
        "    print(i)\n",
        "\n"
      ],
      "metadata": {
        "colab": {
          "base_uri": "https://localhost:8080/"
        },
        "id": "fyn-yB9NyJHo",
        "outputId": "1093619c-df85-4271-f603-07864cb9e2fa"
      },
      "execution_count": null,
      "outputs": [
        {
          "output_type": "stream",
          "name": "stdout",
          "text": [
            "24\n",
            "48\n",
            "72\n",
            "96\n"
          ]
        }
      ]
    },
    {
      "cell_type": "code",
      "source": [
        "n=1\n",
        "while n<10:\n",
        "  if n==3:\n",
        "    print(\"add i it in favs\")\n",
        "  else:\n",
        "    print(n)\n",
        "  n+=1"
      ],
      "metadata": {
        "colab": {
          "base_uri": "https://localhost:8080/"
        },
        "id": "eT12R6LQyaWS",
        "outputId": "b6aeb2b0-e486-490e-9376-b50aa9f7bd7a"
      },
      "execution_count": null,
      "outputs": [
        {
          "output_type": "stream",
          "name": "stdout",
          "text": [
            "1\n",
            "2\n",
            "add i it in favs\n",
            "4\n",
            "5\n",
            "6\n",
            "7\n",
            "8\n",
            "9\n"
          ]
        }
      ]
    },
    {
      "cell_type": "markdown",
      "source": [
        "# Break and  Continue statement"
      ],
      "metadata": {
        "id": "7zeN4XXszQN6"
      }
    },
    {
      "cell_type": "code",
      "source": [
        "# continue statement\n",
        "# is used when you what to skip a particular condition / iteration"
      ],
      "metadata": {
        "id": "Fa4HsXARzYU4"
      },
      "execution_count": null,
      "outputs": []
    },
    {
      "cell_type": "code",
      "source": [
        "# break statement\n",
        "# is used to stop the loop"
      ],
      "metadata": {
        "id": "bR9MFt-WzMgV"
      },
      "execution_count": null,
      "outputs": []
    },
    {
      "cell_type": "code",
      "source": [
        "for i in range (1,11):\n",
        "  if i ==5:\n",
        "    continue\n",
        "  print(i)"
      ],
      "metadata": {
        "colab": {
          "base_uri": "https://localhost:8080/"
        },
        "id": "52onnh0cypze",
        "outputId": "1e0f8f8f-dbd3-4f0e-ba87-ba5c5885228d"
      },
      "execution_count": null,
      "outputs": [
        {
          "output_type": "stream",
          "name": "stdout",
          "text": [
            "1\n",
            "2\n",
            "3\n",
            "4\n",
            "6\n",
            "7\n",
            "8\n",
            "9\n",
            "10\n"
          ]
        }
      ]
    },
    {
      "cell_type": "code",
      "source": [
        "for i in range (1,11):\n",
        "  if i==5:\n",
        "    break\n",
        "  else:\n",
        "    print(i)"
      ],
      "metadata": {
        "colab": {
          "base_uri": "https://localhost:8080/"
        },
        "id": "H5r-iKT7z3hG",
        "outputId": "81a681ca-360b-455b-bb1e-07afa6236aaa"
      },
      "execution_count": null,
      "outputs": [
        {
          "output_type": "stream",
          "name": "stdout",
          "text": [
            "1\n",
            "2\n",
            "3\n",
            "4\n"
          ]
        }
      ]
    },
    {
      "cell_type": "markdown",
      "source": [
        "# **Problem Solving**"
      ],
      "metadata": {
        "id": "ZakZKMXC0Tem"
      }
    },
    {
      "cell_type": "markdown",
      "source": [
        "**write a program to find a sum of all event numbers up to 50**"
      ],
      "metadata": {
        "id": "I59T-D410kaX"
      }
    },
    {
      "cell_type": "code",
      "source": [
        "sum =0\n",
        "for i in range (1,51):\n",
        "  if i%2==0:\n",
        "    sum+=i\n",
        "print(sum)\n",
        "\n"
      ],
      "metadata": {
        "colab": {
          "base_uri": "https://localhost:8080/"
        },
        "id": "byjOsLii1eTz",
        "outputId": "df38eb8b-7691-453f-eda8-9d9838f4ce17"
      },
      "execution_count": null,
      "outputs": [
        {
          "output_type": "stream",
          "name": "stdout",
          "text": [
            "650\n"
          ]
        }
      ]
    },
    {
      "cell_type": "markdown",
      "source": [
        "**write a program to write first numder and their squres number**"
      ],
      "metadata": {
        "id": "NoBvA3qS0uZ4"
      }
    },
    {
      "cell_type": "code",
      "source": [
        "for i in range (1,21):\n",
        "  print(i,i**2)"
      ],
      "metadata": {
        "colab": {
          "base_uri": "https://localhost:8080/"
        },
        "id": "ISv04aVp14Lw",
        "outputId": "2da4fb77-58b6-4d5a-a5eb-ad1dd53e352b"
      },
      "execution_count": null,
      "outputs": [
        {
          "output_type": "stream",
          "name": "stdout",
          "text": [
            "1 1\n",
            "2 4\n",
            "3 9\n",
            "4 16\n",
            "5 25\n",
            "6 36\n",
            "7 49\n",
            "8 64\n",
            "9 81\n",
            "10 100\n",
            "11 121\n",
            "12 144\n",
            "13 169\n",
            "14 196\n",
            "15 225\n",
            "16 256\n",
            "17 289\n",
            "18 324\n",
            "19 361\n",
            "20 400\n"
          ]
        }
      ]
    },
    {
      "cell_type": "markdown",
      "source": [
        "**write a program to find sum of first 10 odd numbers using while loop**"
      ],
      "metadata": {
        "id": "4Gex7jrp04Ft"
      }
    },
    {
      "cell_type": "code",
      "source": [
        "sum = 0\n",
        "i=0\n",
        "while i <=20:\n",
        "  if i%2!=0:\n",
        "    sum+=i\n",
        "  i+=1\n",
        "print(sum)"
      ],
      "metadata": {
        "colab": {
          "base_uri": "https://localhost:8080/"
        },
        "id": "Z102rSAj1_OJ",
        "outputId": "a447cefb-071e-46e5-c946-729a59682a44"
      },
      "execution_count": null,
      "outputs": [
        {
          "output_type": "stream",
          "name": "stdout",
          "text": [
            "100\n"
          ]
        }
      ]
    },
    {
      "cell_type": "markdown",
      "source": [
        "**write a program to check if a number is divisible by 8 and 12 to 100 numbers**"
      ],
      "metadata": {
        "id": "E4ub4LTL1B0L"
      }
    },
    {
      "cell_type": "code",
      "source": [
        "for i in range (1,101):\n",
        "  if i%8==0 and i%12==0:\n",
        "    print(i)"
      ],
      "metadata": {
        "colab": {
          "base_uri": "https://localhost:8080/"
        },
        "id": "EMvJNP8L2s_W",
        "outputId": "9fec8a03-1001-4c14-f4dc-33b4c6716303"
      },
      "execution_count": null,
      "outputs": [
        {
          "output_type": "stream",
          "name": "stdout",
          "text": [
            "24\n",
            "48\n",
            "72\n",
            "96\n"
          ]
        }
      ]
    },
    {
      "cell_type": "markdown",
      "source": [
        "**write a program to build a biling system at supermarket**"
      ],
      "metadata": {
        "id": "ZQSM8wMu1L5F"
      }
    },
    {
      "cell_type": "code",
      "source": [
        "while True :\n",
        "  name=input(\"Enter costomer's name  :\")\n",
        "  total=0\n",
        "  while True:\n",
        "    print(\"Enter the amount and quantity \")\n",
        "    amount=int(input(\"Enter the amount : \"))\n",
        "    quantity=int(input(\"Enter the quantity : \"))\n",
        "    total+=amount*quantity\n",
        "    repeat=input(\"do you want to add more items? (yes/no):\")\n",
        "    if repeat==\"no\"or repeat ==\"NO\":\n",
        "      break\n",
        "  print(\"-\"*40)\n",
        "  print(\"Name : \",name)\n",
        "  print(\"Total : \",total)\n",
        "\n",
        "  repeat=input(\"do you want to add more items? (yes/no):\")\n",
        "  if repeat==\"no\"or repeat ==\"NO\":\n",
        "    break\n"
      ],
      "metadata": {
        "colab": {
          "base_uri": "https://localhost:8080/"
        },
        "id": "wZ2mt9PC3Cue",
        "outputId": "27d7c649-a8f1-4a85-b17a-11df28ac0940"
      },
      "execution_count": null,
      "outputs": [
        {
          "name": "stdout",
          "output_type": "stream",
          "text": [
            "Enter costomer's name  :jon\n",
            "Enter the amount and quantity \n",
            "Enter the amount : 100\n",
            "Enter the quantity : 2\n",
            "do you want to add more items? (yes/no):yes\n",
            "Enter the amount and quantity \n",
            "Enter the amount : 50\n",
            "Enter the quantity : 1\n",
            "do you want to add more items? (yes/no):no\n",
            "----------------------------------------\n",
            "Name :  jon\n",
            "Total :  250\n",
            "do you want to add more items? (yes/no):yes\n",
            "Enter costomer's name  :cherry\n",
            "Enter the amount and quantity \n",
            "Enter the amount : 200\n",
            "Enter the quantity : 2\n",
            "do you want to add more items? (yes/no):no\n",
            "----------------------------------------\n",
            "Name :  cherry\n",
            "Total :  400\n",
            "do you want to add more items? (yes/no):no\n"
          ]
        }
      ]
    },
    {
      "cell_type": "markdown",
      "source": [
        "**\"why fit in, When you are Born to Stand Out \"** **a string problem**"
      ],
      "metadata": {
        "id": "gTyDoJ5L5ZhU"
      }
    },
    {
      "cell_type": "markdown",
      "source": [
        "**write a program to fnd the lenght of following string**"
      ],
      "metadata": {
        "id": "pdjPzkL35uOd"
      }
    },
    {
      "cell_type": "code",
      "source": [
        "a=\"why fit in, When you are Born to Stand Out \"\n",
        "b=len(a)\n",
        "print(\"the lenght of given string \",b)"
      ],
      "metadata": {
        "colab": {
          "base_uri": "https://localhost:8080/"
        },
        "id": "kIaJ0pc_6lDl",
        "outputId": "69cceea8-73c1-4c2b-fbd4-b848bce07858"
      },
      "execution_count": null,
      "outputs": [
        {
          "output_type": "stream",
          "name": "stdout",
          "text": [
            "the lenght of given string  43\n"
          ]
        }
      ]
    },
    {
      "cell_type": "markdown",
      "source": [
        "**write a program to check how many time alphabet o is occurring**"
      ],
      "metadata": {
        "id": "l_IPe4QN52vG"
      }
    },
    {
      "cell_type": "code",
      "source": [
        "print(\"the number of time o is occuring \",a.count(\"o\"))"
      ],
      "metadata": {
        "colab": {
          "base_uri": "https://localhost:8080/"
        },
        "id": "vTsX1Y5G66K7",
        "outputId": "d000b942-156c-4f1a-92d4-bee2f09f9ba4"
      },
      "execution_count": null,
      "outputs": [
        {
          "output_type": "stream",
          "name": "stdout",
          "text": [
            "the number of time o is occuring  3\n"
          ]
        }
      ]
    },
    {
      "cell_type": "markdown",
      "source": [
        "**write a program to convert the whole string into lower and uper case**"
      ],
      "metadata": {
        "id": "85N9b59W6B3g"
      }
    },
    {
      "cell_type": "code",
      "source": [
        "X=a.lower()\n",
        "print(X)\n",
        "Y=a.upper()\n",
        "print(Y)"
      ],
      "metadata": {
        "colab": {
          "base_uri": "https://localhost:8080/"
        },
        "id": "_W2tlkin7HJ9",
        "outputId": "f43df41d-9373-4b8d-a950-73fc0860b907"
      },
      "execution_count": null,
      "outputs": [
        {
          "output_type": "stream",
          "name": "stdout",
          "text": [
            "why fit in, when you are born to stand out \n",
            "WHY FIT IN, WHEN YOU ARE BORN TO STAND OUT \n"
          ]
        }
      ]
    },
    {
      "cell_type": "markdown",
      "source": [
        "**write a program to convert the following string in to a title**"
      ],
      "metadata": {
        "id": "Enyd5KYz6LfU"
      }
    },
    {
      "cell_type": "code",
      "source": [
        "Z=a.title()\n",
        "print(Z)"
      ],
      "metadata": {
        "colab": {
          "base_uri": "https://localhost:8080/"
        },
        "id": "Q81eY8KE7QKA",
        "outputId": "b62eb75c-76ff-41ed-df82-3859dd6bc20c"
      },
      "execution_count": null,
      "outputs": [
        {
          "output_type": "stream",
          "name": "stdout",
          "text": [
            "Why Fit In, When You Are Born To Stand Out \n"
          ]
        }
      ]
    },
    {
      "cell_type": "markdown",
      "source": [
        "**write a program to find the index number of \" fit in \"**"
      ],
      "metadata": {
        "id": "ed5FymEK6Xox"
      }
    },
    {
      "cell_type": "code",
      "source": [
        "print (a.find(\"fit in\"))"
      ],
      "metadata": {
        "colab": {
          "base_uri": "https://localhost:8080/"
        },
        "id": "Wc_VtgwY7VyI",
        "outputId": "31c0308e-fd96-4e56-e861-5b1c9af99df3"
      },
      "execution_count": null,
      "outputs": [
        {
          "output_type": "stream",
          "name": "stdout",
          "text": [
            "4\n"
          ]
        }
      ]
    },
    {
      "cell_type": "markdown",
      "source": [
        "**1**\n",
        "\n",
        "---\n",
        "**1 2**\n",
        "\n",
        "---\n",
        "**1 2 3**\n",
        "\n",
        "---\n",
        "\n",
        "**1 2 3 4**\n",
        "\n",
        "---\n",
        "\n",
        "**1 2 3 4 5**\n",
        "\n",
        "---\n",
        "\n",
        "**making this pattren using loop**\n",
        "\n",
        "\n"
      ],
      "metadata": {
        "id": "XA1yvRNn7t8f"
      }
    },
    {
      "cell_type": "code",
      "source": [
        "for i in range (1,6):\n",
        "  for j in range (1,i+1):\n",
        "    print(j,end=\" \")\n",
        "  print( )"
      ],
      "metadata": {
        "colab": {
          "base_uri": "https://localhost:8080/"
        },
        "id": "kDKMIhoX8O5e",
        "outputId": "4430e592-ec67-4c13-a94d-1a4a532e0108"
      },
      "execution_count": null,
      "outputs": [
        {
          "output_type": "stream",
          "name": "stdout",
          "text": [
            "1 \n",
            "1 2 \n",
            "1 2 3 \n",
            "1 2 3 4 \n",
            "1 2 3 4 5 \n"
          ]
        }
      ]
    },
    {
      "cell_type": "markdown",
      "source": [
        "**1**\n",
        "\n",
        "---\n",
        "**2 2**\n",
        "\n",
        "---\n",
        "**3 3 3**\n",
        "\n",
        "---\n",
        "\n",
        "**4 4 4 4**\n",
        "\n",
        "---\n",
        "\n",
        "**5 5 5 5 5**\n",
        "\n",
        "---\n",
        "\n",
        "**making this pattren using loop**"
      ],
      "metadata": {
        "id": "ZplQJmeR88-i"
      }
    },
    {
      "cell_type": "code",
      "source": [
        "for i in range (1,6):\n",
        "  for j in range (1,i+1):\n",
        "    print(i,end=\" \")\n",
        "  print( )"
      ],
      "metadata": {
        "colab": {
          "base_uri": "https://localhost:8080/"
        },
        "id": "b7YOUdQu7d-y",
        "outputId": "23bd1409-1e44-4845-9891-9c9daa1db9ad"
      },
      "execution_count": null,
      "outputs": [
        {
          "output_type": "stream",
          "name": "stdout",
          "text": [
            "1 \n",
            "2 2 \n",
            "3 3 3 \n",
            "4 4 4 4 \n",
            "5 5 5 5 5 \n"
          ]
        }
      ]
    },
    {
      "cell_type": "code",
      "source": [
        "for i in range (1,6):\n",
        "  for j in range (6,i,-1):\n",
        "    print(i,end=\" \")\n",
        "  print( )"
      ],
      "metadata": {
        "colab": {
          "base_uri": "https://localhost:8080/"
        },
        "id": "WSMRp1IZ9LyO",
        "outputId": "58f1f968-e1fe-4244-8d62-bf02d44ec916"
      },
      "execution_count": null,
      "outputs": [
        {
          "output_type": "stream",
          "name": "stdout",
          "text": [
            "1 1 1 1 1 \n",
            "2 2 2 2 \n",
            "3 3 3 \n",
            "4 4 \n",
            "5 \n"
          ]
        }
      ]
    },
    {
      "cell_type": "code",
      "source": [
        "for i in range (1,6):\n",
        "  for j in range (5,i,-1):\n",
        "    print(\" \",end=\" \")\n",
        "  for k in range (1,i+1):\n",
        "    print(\"*\",end=\" \")\n",
        "  print( )\n"
      ],
      "metadata": {
        "colab": {
          "base_uri": "https://localhost:8080/"
        },
        "id": "XLe0dWk69Xb4",
        "outputId": "44e2ae64-1a39-49fd-c3b5-a9d9a6d4ea2c"
      },
      "execution_count": null,
      "outputs": [
        {
          "output_type": "stream",
          "name": "stdout",
          "text": [
            "        * \n",
            "      * * \n",
            "    * * * \n",
            "  * * * * \n",
            "* * * * * \n"
          ]
        }
      ]
    },
    {
      "cell_type": "code",
      "source": [
        "for i in range (1,6):\n",
        "  for j in range (i,0,-1):\n",
        "    print(j,end=\" \")\n",
        "  print()"
      ],
      "metadata": {
        "colab": {
          "base_uri": "https://localhost:8080/"
        },
        "id": "M1TGYFvD9qHa",
        "outputId": "88f8af5a-8d66-429d-e151-0bd17006c35c"
      },
      "execution_count": null,
      "outputs": [
        {
          "output_type": "stream",
          "name": "stdout",
          "text": [
            "1 \n",
            "2 1 \n",
            "3 2 1 \n",
            "4 3 2 1 \n",
            "5 4 3 2 1 \n"
          ]
        }
      ]
    },
    {
      "cell_type": "code",
      "source": [
        "for i in range (1,6):\n",
        "  for j in range (1,i+1):\n",
        "    print(\"*\",end=\" \")\n",
        "  print()\n",
        "for i in range (5,0,-1):\n",
        "  for j in range (0,i-1):\n",
        "    print(\"*\",end=\" \")\n",
        "  print()"
      ],
      "metadata": {
        "colab": {
          "base_uri": "https://localhost:8080/"
        },
        "id": "-S9wP0rN-nta",
        "outputId": "b460b814-abba-4be9-fb5a-3f4c827c04f1"
      },
      "execution_count": null,
      "outputs": [
        {
          "output_type": "stream",
          "name": "stdout",
          "text": [
            "* \n",
            "* * \n",
            "* * * \n",
            "* * * * \n",
            "* * * * * \n",
            "* * * * \n",
            "* * * \n",
            "* * \n",
            "* \n",
            "\n"
          ]
        }
      ]
    },
    {
      "cell_type": "code",
      "source": [
        "for i in range (1,11):\n",
        "  for j in range(1,i+1):\n",
        "    print (i*j,end= \" \")\n",
        "  print(\"\")"
      ],
      "metadata": {
        "colab": {
          "base_uri": "https://localhost:8080/"
        },
        "id": "jib-S7tZ-zeD",
        "outputId": "5c0d8302-edc8-46ee-a071-7cb0000c6383"
      },
      "execution_count": null,
      "outputs": [
        {
          "output_type": "stream",
          "name": "stdout",
          "text": [
            "1 \n",
            "2 4 \n",
            "3 6 9 \n",
            "4 8 12 16 \n",
            "5 10 15 20 25 \n",
            "6 12 18 24 30 36 \n",
            "7 14 21 28 35 42 49 \n",
            "8 16 24 32 40 48 56 64 \n",
            "9 18 27 36 45 54 63 72 81 \n",
            "10 20 30 40 50 60 70 80 90 100 \n"
          ]
        }
      ]
    },
    {
      "cell_type": "markdown",
      "source": [
        "**write a program to get a fibonacci series upto 10 numbers**"
      ],
      "metadata": {
        "id": "vJJ2OtJ5U57z"
      }
    },
    {
      "cell_type": "code",
      "source": [
        "# fibonacci seriesa\n",
        "a=0\n",
        "b=1\n",
        "n=int(input(\"Enter a number : \"))\n",
        "if n==1:\n",
        "  print(a)\n",
        "else:\n",
        "  for  i in range (2,n):\n",
        "    c=a+b\n",
        "    a=b\n",
        "    b=c\n",
        "    print(c)"
      ],
      "metadata": {
        "colab": {
          "base_uri": "https://localhost:8080/"
        },
        "id": "RXmbM4fDVc3s",
        "outputId": "4f127e4e-23a7-424c-f0f7-515b14ef1668"
      },
      "execution_count": null,
      "outputs": [
        {
          "output_type": "stream",
          "name": "stdout",
          "text": [
            "Enter a number : 5\n",
            "1\n",
            "2\n",
            "3\n"
          ]
        }
      ]
    },
    {
      "cell_type": "markdown",
      "source": [
        "**write a program to check if a number is prime or not**"
      ],
      "metadata": {
        "id": "DPq1hpFzVCXS"
      }
    },
    {
      "cell_type": "code",
      "source": [
        "# prime number\n",
        "n=int(input(\"Enter a number : \"))\n",
        "if n>1:\n",
        "  for i in range (2,n):\n",
        "    if n%i==0:\n",
        "      print(\"not prime\")\n",
        "      break\n",
        "  else:\n",
        "    print(\"prime\")\n",
        "else:\n",
        "  print(\"not prime\")"
      ],
      "metadata": {
        "colab": {
          "base_uri": "https://localhost:8080/"
        },
        "id": "wcJ9AkMaLGfo",
        "outputId": "3113cb60-a307-4770-ebe5-10d81c5ddfec"
      },
      "execution_count": null,
      "outputs": [
        {
          "output_type": "stream",
          "name": "stdout",
          "text": [
            "Enter a number : 1\n",
            "not prime\n"
          ]
        }
      ]
    },
    {
      "cell_type": "markdown",
      "source": [
        "**write a program to find a palindrome of integers**"
      ],
      "metadata": {
        "id": "RSuMIRhoVK1n"
      }
    },
    {
      "cell_type": "code",
      "source": [
        "# palindrome 111 131\n",
        "n=int(input(\"Enter a number : \"))\n",
        "temp=n\n",
        "rev=0\n",
        "while n>0:\n",
        "  r=n%10\n",
        "  rev=rev*10+r\n",
        "  n=n//10\n",
        "if temp==rev:\n",
        "  print(\"palindrome\")\n",
        "else:\n",
        "  print(\"not palindrome\")"
      ],
      "metadata": {
        "colab": {
          "base_uri": "https://localhost:8080/"
        },
        "id": "Nm6HrZJpLb2f",
        "outputId": "4fd6d405-5036-4695-9cc0-b50fed870bed"
      },
      "execution_count": null,
      "outputs": [
        {
          "output_type": "stream",
          "name": "stdout",
          "text": [
            "Enter a number : 131\n",
            "palindrome\n"
          ]
        }
      ]
    },
    {
      "cell_type": "markdown",
      "source": [
        "**write a program to create an area caculator**"
      ],
      "metadata": {
        "id": "dzE227NyVUtI"
      }
    },
    {
      "cell_type": "code",
      "source": [
        "print(\"******* AERA CALCULATOR ***********\")\n",
        "while True:\n",
        "  print(\"press 1 for area of circle\")\n",
        "  print(\"press 2 for area of rectangle\")\n",
        "  print(\"press 3 for area of triangle\")\n",
        "  choice=int(input(\"enter your choice :\"))\n",
        "  if choice==1:\n",
        "    radius=float(input(\"enter radius :\"))\n",
        "    area=3.14*radius*radius\n",
        "    print(\"area of circle is : \",area)\n",
        "    print(\"thank you for using area calculator\")\n",
        "\n",
        "  elif choice==2:\n",
        "    length=float(input(\"enter length :\"))\n",
        "    breadth=float(input(\"enter breadth :\"))\n",
        "    area=length*breadth\n",
        "    print(\"area of rectangle is : \",area)\n",
        "    print(\"thank you for using area calculator\")\n",
        "\n",
        "  elif choice==3:\n",
        "    base=float(input(\"enter base :\"))\n",
        "    height=float(input(\"enter height :\"))\n",
        "    area=0.5*base*height\n",
        "    print(\"area of triangle is : \",area)\n",
        "  else :\n",
        "    print(\"invalid choice\")\n",
        "  choice=input(\"do you want to continue? (yes/no) :\")\n",
        "  if choice==\"no\":\n",
        "    print(\"thank you for using area calculator\")\n",
        "    break\n"
      ],
      "metadata": {
        "id": "JBbNjPNVNQKP",
        "colab": {
          "base_uri": "https://localhost:8080/"
        },
        "outputId": "8657f14d-f259-476c-b26c-52cc57e504ea"
      },
      "execution_count": 7,
      "outputs": [
        {
          "name": "stdout",
          "output_type": "stream",
          "text": [
            "******* AERA CALCULATOR ***********\n",
            "press 1 for area of circle\n",
            "press 2 for area of rectangle\n",
            "press 3 for area of triangle\n",
            "enter your choice :1\n",
            "enter radius :2\n",
            "area of circle is :  12.56\n",
            "thank you for using area calculator\n",
            "do you want to continue? (yes/no) :yes\n",
            "press 1 for area of circle\n",
            "press 2 for area of rectangle\n",
            "press 3 for area of triangle\n",
            "enter your choice :3\n",
            "enter base :4\n",
            "enter height :2\n",
            "area of triangle is :  4.0\n",
            "do you want to continue? (yes/no) :yes\n",
            "press 1 for area of circle\n",
            "press 2 for area of rectangle\n",
            "press 3 for area of triangle\n",
            "enter your choice :2\n",
            "enter length :1\n",
            "enter breadth :23\n",
            "area of rectangle is :  23.0\n",
            "thank you for using area calculator\n",
            "do you want to continue? (yes/no) :no\n"
          ]
        }
      ]
    },
    {
      "cell_type": "code",
      "source": [],
      "metadata": {
        "id": "lMLnsrxCPAhB"
      },
      "execution_count": null,
      "outputs": []
    },
    {
      "cell_type": "markdown",
      "source": [
        "# String  manipulation"
      ],
      "metadata": {
        "id": "lvpc4GlC_uei"
      }
    },
    {
      "cell_type": "markdown",
      "source": [
        "lenght, count, upper, lower, index, capitalize, casefold, find, format, center"
      ],
      "metadata": {
        "id": "fTATGdjwAHoN"
      }
    },
    {
      "cell_type": "code",
      "source": [
        "a=\"Harry Potter and the Goble of Fire\"\n",
        "print(a)"
      ],
      "metadata": {
        "colab": {
          "base_uri": "https://localhost:8080/"
        },
        "id": "a1r80tNH_0yd",
        "outputId": "7245b1e8-ca9a-4ca8-b539-bce89a68759b"
      },
      "execution_count": null,
      "outputs": [
        {
          "output_type": "stream",
          "name": "stdout",
          "text": [
            "Harry Potter and the Goble of Fire\n"
          ]
        }
      ]
    },
    {
      "cell_type": "code",
      "source": [
        "# lenght\n",
        "print(len(a)) # space also count"
      ],
      "metadata": {
        "colab": {
          "base_uri": "https://localhost:8080/"
        },
        "id": "1qGOpAj7LuGX",
        "outputId": "353132eb-42e2-4fa3-eaac-0a5ff5f74ab9"
      },
      "execution_count": null,
      "outputs": [
        {
          "output_type": "stream",
          "name": "stdout",
          "text": [
            "34\n"
          ]
        }
      ]
    },
    {
      "cell_type": "code",
      "source": [
        "# count find the number oftime os occuring\n",
        "print(a.count('o'))\n",
        "print(a.count(\"H\"))"
      ],
      "metadata": {
        "colab": {
          "base_uri": "https://localhost:8080/"
        },
        "id": "Mxt1WGi0LyNx",
        "outputId": "b519edda-6338-4725-d087-6e3a2049e376"
      },
      "execution_count": null,
      "outputs": [
        {
          "output_type": "stream",
          "name": "stdout",
          "text": [
            "3\n",
            "1\n"
          ]
        }
      ]
    },
    {
      "cell_type": "code",
      "source": [
        "# to convert each letter in uper case\n",
        "print(a.upper())"
      ],
      "metadata": {
        "colab": {
          "base_uri": "https://localhost:8080/"
        },
        "id": "jQBCGcNrL8F1",
        "outputId": "ec385ce6-807e-4e9b-901b-231a1c210275"
      },
      "execution_count": null,
      "outputs": [
        {
          "output_type": "stream",
          "name": "stdout",
          "text": [
            "HARRY POTTER AND THE GOBLE OF FIRE\n"
          ]
        }
      ]
    },
    {
      "cell_type": "code",
      "source": [
        "# to convert each letter in lower case\n",
        "print(a.lower())"
      ],
      "metadata": {
        "colab": {
          "base_uri": "https://localhost:8080/"
        },
        "id": "kNWWsH_NMJO4",
        "outputId": "a3d22574-4914-4bc4-848b-581069cb6c30"
      },
      "execution_count": null,
      "outputs": [
        {
          "output_type": "stream",
          "name": "stdout",
          "text": [
            "harry potter and the goble of fire\n"
          ]
        }
      ]
    },
    {
      "cell_type": "code",
      "source": [
        "# find the index of eany character\n",
        "print(a.index(\"o\"))\n",
        "print(a.index(\"o\",22,28))"
      ],
      "metadata": {
        "colab": {
          "base_uri": "https://localhost:8080/"
        },
        "id": "Ch6Q0wdNMPdV",
        "outputId": "d40cfc88-7093-41bc-dc3e-baeacd479827"
      },
      "execution_count": null,
      "outputs": [
        {
          "output_type": "stream",
          "name": "stdout",
          "text": [
            "7\n",
            "22\n"
          ]
        }
      ]
    },
    {
      "cell_type": "code",
      "source": [
        "# to covert the first letter to capilta\n",
        "print(a.capitalize())\n"
      ],
      "metadata": {
        "colab": {
          "base_uri": "https://localhost:8080/"
        },
        "id": "Qh3So6sfMlWW",
        "outputId": "bda5b32b-018d-4bbe-9c01-a60cfd31698b"
      },
      "execution_count": null,
      "outputs": [
        {
          "output_type": "stream",
          "name": "stdout",
          "text": [
            "Harry potter and the goble of fire\n"
          ]
        }
      ]
    },
    {
      "cell_type": "code",
      "source": [
        "# to convert a string in to lower case\n",
        "print(a.casefold())"
      ],
      "metadata": {
        "colab": {
          "base_uri": "https://localhost:8080/"
        },
        "id": "RYja24RxMthT",
        "outputId": "35d15a43-bd1e-4173-f48f-6623361a2d4e"
      },
      "execution_count": null,
      "outputs": [
        {
          "output_type": "stream",
          "name": "stdout",
          "text": [
            "harry potter and the goble of fire\n"
          ]
        }
      ]
    },
    {
      "cell_type": "code",
      "source": [
        "# to find a character by index\n",
        "print(a.find('o'))"
      ],
      "metadata": {
        "colab": {
          "base_uri": "https://localhost:8080/"
        },
        "id": "h2wNqc3tM6TJ",
        "outputId": "55d610a6-7e92-4c64-9220-efdc07220311"
      },
      "execution_count": null,
      "outputs": [
        {
          "output_type": "stream",
          "name": "stdout",
          "text": [
            "7\n"
          ]
        }
      ]
    },
    {
      "cell_type": "code",
      "source": [
        "# to write a variable in a string\n",
        "name=\"jon\"\n",
        "age =\"20\"\n",
        "b=\"my name is {},and my age is {} \"\n",
        "print(b.format(name,age))"
      ],
      "metadata": {
        "colab": {
          "base_uri": "https://localhost:8080/"
        },
        "id": "ceIhskg2NHtT",
        "outputId": "d676af09-5813-454c-a946-48d059434417"
      },
      "execution_count": null,
      "outputs": [
        {
          "output_type": "stream",
          "name": "stdout",
          "text": [
            "my name is jon,and my age is 20 \n"
          ]
        }
      ]
    },
    {
      "cell_type": "code",
      "source": [
        "# it fills the given characters and centralizes a string\n",
        "print(name.center(20,\"*\"))"
      ],
      "metadata": {
        "colab": {
          "base_uri": "https://localhost:8080/"
        },
        "id": "nDdlBNfLNUsa",
        "outputId": "152f53b6-aac9-4c8c-ef3d-bd83edd1f40d"
      },
      "execution_count": null,
      "outputs": [
        {
          "output_type": "stream",
          "name": "stdout",
          "text": [
            "********jon*********\n"
          ]
        }
      ]
    },
    {
      "cell_type": "code",
      "source": [
        "# isalnum() - Returns True if all characters in the string are alphanumeric (letters or numbers)\n",
        "# isalpha() - Returns True if all characters in the string are alphabetic (only letters)\n",
        "# isdecimal() - Returns True if all characters in the string are decimal numbers (0-9 only)\n",
        "# isdigit() - Returns True if all characters in the string are digits (includes superscripts etc.)\n",
        "# isnumeric() - Returns True if all characters are numeric (includes fractions, roman numerals, etc.)\n",
        "# islower() - Returns True if all alphabetic characters in the string are lowercase\n",
        "# isupper() - Returns True if all alphabetic characters in the string are uppercase\n",
        "# isspace() - Returns True if all characters in the string are whitespace (space, tab, newline)\n",
        "# istitle() - Returns True if the string is in title case (each word starts with a capital letter)\n",
        "\n"
      ],
      "metadata": {
        "id": "028a1iz-RJmV"
      },
      "execution_count": null,
      "outputs": []
    },
    {
      "cell_type": "code",
      "source": [
        "s = \"Python3\"\n",
        "print(s.isalnum())  # True\n",
        "\n",
        "s2 = \"Python 3\"\n",
        "print(s2.isalnum())  # False (space is not alphanumeric)\n"
      ],
      "metadata": {
        "colab": {
          "base_uri": "https://localhost:8080/"
        },
        "id": "3Vxr2yKoRN4Q",
        "outputId": "79b63a1b-a31d-4c19-f376-392fccf9c8d5"
      },
      "execution_count": null,
      "outputs": [
        {
          "output_type": "stream",
          "name": "stdout",
          "text": [
            "True\n",
            "False\n"
          ]
        }
      ]
    },
    {
      "cell_type": "code",
      "source": [
        "s = \"Python\"\n",
        "print(s.isalpha())  # True\n",
        "\n",
        "s2 = \"Python3\"\n",
        "print(s2.isalpha())  # False (contains a number)\n"
      ],
      "metadata": {
        "colab": {
          "base_uri": "https://localhost:8080/"
        },
        "id": "fdbk6Ea5Rns6",
        "outputId": "80420841-8a58-4282-91c2-75bf984551b7"
      },
      "execution_count": null,
      "outputs": [
        {
          "output_type": "stream",
          "name": "stdout",
          "text": [
            "True\n",
            "False\n"
          ]
        }
      ]
    },
    {
      "cell_type": "code",
      "source": [
        "s = \"12345\"\n",
        "print(s.isdecimal())  # True\n",
        "\n",
        "s2 = \"12.5\"\n",
        "print(s2.isdecimal())  # False (decimal point not allowed)\n",
        "\n",
        "s3 = \"²\"  # superscript 2\n",
        "print(s3.isdecimal())  # False\n"
      ],
      "metadata": {
        "colab": {
          "base_uri": "https://localhost:8080/"
        },
        "id": "hOA50FQORqBr",
        "outputId": "f524af63-963c-4a6e-bbb1-c255f1072e65"
      },
      "execution_count": null,
      "outputs": [
        {
          "output_type": "stream",
          "name": "stdout",
          "text": [
            "True\n",
            "False\n",
            "False\n"
          ]
        }
      ]
    },
    {
      "cell_type": "code",
      "source": [
        "s = \"12345\"\n",
        "print(s.isdigit())  # True\n",
        "\n",
        "s2 = \"²\"  # superscript 2\n",
        "print(s2.isdigit())  # True\n",
        "\n",
        "s3 = \"12a\"\n",
        "print(s3.isdigit())  # False\n"
      ],
      "metadata": {
        "colab": {
          "base_uri": "https://localhost:8080/"
        },
        "id": "6eA_wy3-Rr6V",
        "outputId": "0eeaa26f-6096-4ee3-9750-137e7a22151c"
      },
      "execution_count": null,
      "outputs": [
        {
          "output_type": "stream",
          "name": "stdout",
          "text": [
            "True\n",
            "True\n",
            "False\n"
          ]
        }
      ]
    },
    {
      "cell_type": "code",
      "source": [
        "s = \"123\"\n",
        "print(s.isnumeric())  # True\n",
        "\n",
        "s2 = \"½\"  # one-half fraction\n",
        "print(s2.isnumeric())  # True\n",
        "\n",
        "s3 = \"abc\"\n",
        "print(s3.isnumeric())  # False\n"
      ],
      "metadata": {
        "colab": {
          "base_uri": "https://localhost:8080/"
        },
        "id": "pWhRKBcxRvzg",
        "outputId": "0fd27ddc-02e8-49db-b2c5-ef8a058659cd"
      },
      "execution_count": null,
      "outputs": [
        {
          "output_type": "stream",
          "name": "stdout",
          "text": [
            "True\n",
            "True\n",
            "False\n"
          ]
        }
      ]
    },
    {
      "cell_type": "code",
      "source": [
        "s = \"hello\"\n",
        "print(s.islower())  # True\n",
        "\n",
        "s2 = \"Hello\"\n",
        "print(s2.islower())  # False\n"
      ],
      "metadata": {
        "colab": {
          "base_uri": "https://localhost:8080/"
        },
        "id": "r3wPx4jFR0R4",
        "outputId": "c79193aa-0a89-454f-999e-4498032f91a6"
      },
      "execution_count": null,
      "outputs": [
        {
          "output_type": "stream",
          "name": "stdout",
          "text": [
            "True\n",
            "False\n"
          ]
        }
      ]
    },
    {
      "cell_type": "code",
      "source": [
        "s = \"HELLO\"\n",
        "print(s.isupper())  # True\n",
        "\n",
        "s2 = \"Hello\"\n",
        "print(s2.isupper())  # False\n"
      ],
      "metadata": {
        "colab": {
          "base_uri": "https://localhost:8080/"
        },
        "id": "1aFihOtvR2p8",
        "outputId": "65d0fbca-226f-4d4b-c605-abca42750e29"
      },
      "execution_count": null,
      "outputs": [
        {
          "output_type": "stream",
          "name": "stdout",
          "text": [
            "True\n",
            "False\n"
          ]
        }
      ]
    },
    {
      "cell_type": "code",
      "source": [
        "s = \"   \"\n",
        "print(s.isspace())  # True\n",
        "\n",
        "s2 = \"  \\n\\t\"\n",
        "print(s2.isspace())  # True\n",
        "\n",
        "s3 = \" a \"\n",
        "print(s3.isspace())  # False\n"
      ],
      "metadata": {
        "colab": {
          "base_uri": "https://localhost:8080/"
        },
        "id": "ccOERG-bR4lt",
        "outputId": "35363b56-1742-4acb-b319-caab2e568aa6"
      },
      "execution_count": null,
      "outputs": [
        {
          "output_type": "stream",
          "name": "stdout",
          "text": [
            "True\n",
            "True\n",
            "False\n"
          ]
        }
      ]
    },
    {
      "cell_type": "code",
      "source": [
        "s = \"This Is A Title\"\n",
        "print(s.istitle())  # True\n",
        "\n",
        "s2 = \"this Is A title\"\n",
        "print(s2.istitle())  # False\n"
      ],
      "metadata": {
        "colab": {
          "base_uri": "https://localhost:8080/"
        },
        "id": "gb7H--PKR63g",
        "outputId": "444cf954-334c-4f04-dad8-cb4c1af08e2c"
      },
      "execution_count": null,
      "outputs": [
        {
          "output_type": "stream",
          "name": "stdout",
          "text": [
            "True\n",
            "False\n"
          ]
        }
      ]
    },
    {
      "cell_type": "code",
      "source": [
        "# endswith() - Returns True if the string ends with the specified substring\n",
        "# startswith() - Returns True if the string starts with the specified substring\n",
        "# swapcase() - Swaps the case of each character (lower -> upper, upper -> lower)\n",
        "# strip() - Removes whitespace (or specified characters) from both ends of the string\n",
        "# split() - Splits the string into a list using a separator (default is space)\n",
        "# rjust() - Returns a right-justified version of the string, padded with spaces (or specified char)\n",
        "# ljust() - Returns a left-justified version of the string, padded with spaces (or specified char)\n",
        "# replace() - Replaces all occurrences of a substring with another substring\n",
        "# rindex() - Returns the highest index of the specified substring (raises error if not found)\n",
        "# rfind() - Returns the highest index of the specified substring (returns -1 if not found)\n"
      ],
      "metadata": {
        "id": "B5EDWrDvUHlh"
      },
      "execution_count": null,
      "outputs": []
    },
    {
      "cell_type": "code",
      "source": [
        "# True example\n",
        "s = \"hello world\"\n",
        "print(s.endswith(\"world\"))  # True\n",
        "\n",
        "# False example\n",
        "print(s.endswith(\"hello\"))  # False\n"
      ],
      "metadata": {
        "colab": {
          "base_uri": "https://localhost:8080/"
        },
        "id": "Ne--c2z9VePX",
        "outputId": "c9a65d6c-96d3-4abb-bdb4-c88e38685380"
      },
      "execution_count": null,
      "outputs": [
        {
          "output_type": "stream",
          "name": "stdout",
          "text": [
            "True\n",
            "False\n"
          ]
        }
      ]
    },
    {
      "cell_type": "code",
      "source": [
        "# True example\n",
        "s = \"hello world\"\n",
        "print(s.startswith(\"hello\"))  # True\n",
        "\n",
        "# False example\n",
        "print(s.startswith(\"world\"))  # False\n",
        "\n"
      ],
      "metadata": {
        "colab": {
          "base_uri": "https://localhost:8080/"
        },
        "id": "7-vRl1EmVnEd",
        "outputId": "4732a195-7687-4e7a-9be9-24ba860e7108"
      },
      "execution_count": null,
      "outputs": [
        {
          "output_type": "stream",
          "name": "stdout",
          "text": [
            "True\n",
            "False\n"
          ]
        }
      ]
    },
    {
      "cell_type": "code",
      "source": [
        "# Example (no True/False, just output)\n",
        "s = \"HeLLo WoRLd\"\n",
        "print(s.swapcase())  # hEllO wOrlD\n",
        "\n",
        "s2 = \"python\"\n",
        "print(s2.swapcase())  # PYTHON\n"
      ],
      "metadata": {
        "colab": {
          "base_uri": "https://localhost:8080/"
        },
        "id": "dGz3SGXrVp_o",
        "outputId": "5f81261d-2fd2-420f-d1f4-e4ad14c829d2"
      },
      "execution_count": null,
      "outputs": [
        {
          "output_type": "stream",
          "name": "stdout",
          "text": [
            "hEllO wOrlD\n",
            "PYTHON\n"
          ]
        }
      ]
    },
    {
      "cell_type": "code",
      "source": [
        "# True example (comparing stripped string)\n",
        "s = \"   hello   \"\n",
        "print(s)\n",
        "print(s.strip())\n",
        "print(s.strip() == \"hello\")  # True\n",
        "\n",
        "# False example\n",
        "print(s.strip() == \"   hello   \")  # False\n"
      ],
      "metadata": {
        "colab": {
          "base_uri": "https://localhost:8080/"
        },
        "id": "9Q2HSH2_VtIh",
        "outputId": "d135f0ca-21fd-4e61-eabe-988004cf7b26"
      },
      "execution_count": null,
      "outputs": [
        {
          "output_type": "stream",
          "name": "stdout",
          "text": [
            "   hello   \n",
            "hello\n",
            "True\n",
            "False\n"
          ]
        }
      ]
    },
    {
      "cell_type": "code",
      "source": [
        "# True example\n",
        "s = \"apple,banana,grape\"\n",
        "print(s.split(\",\"))  # ['apple', 'banana', 'grape']\n",
        "s = \"apple#banana#grape\"\n",
        "print(s.split(\"#\"))\n",
        "# False example\n",
        "print(s.split(\",\") == [\"apple\", \"banana\", \"grape\"])  # True\n",
        "\n",
        "# False example\n",
        "print(s.split(\",\") == [\"apple banana grape\"])  # False\n"
      ],
      "metadata": {
        "colab": {
          "base_uri": "https://localhost:8080/"
        },
        "id": "Xug9pspDV0Un",
        "outputId": "a64d8cfb-6800-4222-d58e-86745108b253"
      },
      "execution_count": null,
      "outputs": [
        {
          "output_type": "stream",
          "name": "stdout",
          "text": [
            "['apple', 'banana', 'grape']\n",
            "['apple', 'banana', 'grape']\n",
            "False\n",
            "False\n"
          ]
        }
      ]
    },
    {
      "cell_type": "code",
      "source": [
        "# True example\n",
        "s = \"42\"\n",
        "print( \"the number is \", s.rjust(5) )  # True\n",
        "print( \"the number is \", s.rjust(5,\"*\") )  # True\n"
      ],
      "metadata": {
        "colab": {
          "base_uri": "https://localhost:8080/"
        },
        "id": "YqQkeQxLWF8W",
        "outputId": "3ea4a236-067d-4f21-b607-2aa882db75cd"
      },
      "execution_count": null,
      "outputs": [
        {
          "output_type": "stream",
          "name": "stdout",
          "text": [
            "the number is     42\n",
            "the number is  ***42\n"
          ]
        }
      ]
    },
    {
      "cell_type": "code",
      "source": [
        "# True example\n",
        "s = \"42\"\n",
        "print(s.ljust(5) ,\"is a number\" ) # True\n",
        "\n",
        "print(s.ljust(5,\"*\") ,\"is a number\" ) # True\n"
      ],
      "metadata": {
        "colab": {
          "base_uri": "https://localhost:8080/"
        },
        "id": "yLbmsmb6WGr7",
        "outputId": "f2396d07-399f-4d33-e025-a776b0fe88ad"
      },
      "execution_count": null,
      "outputs": [
        {
          "output_type": "stream",
          "name": "stdout",
          "text": [
            "42    is a number\n",
            "42*** is a number\n"
          ]
        }
      ]
    },
    {
      "cell_type": "code",
      "source": [
        "# True example\n",
        "s = \"I like apples\"\n",
        "print(s.replace(\"apples\", \"bananas\"))\n",
        "\n",
        "print(s.replace(\"apples\", \"bananas\") == \"I like bananas\")  # True\n",
        "\n",
        "# False example\n",
        "print(s.replace(\"apples\", \"bananas\") == \"I like apples\")  # False\n"
      ],
      "metadata": {
        "colab": {
          "base_uri": "https://localhost:8080/"
        },
        "id": "TuzNIO24WIqJ",
        "outputId": "ec9de89a-7138-4783-d3d7-5b5fb7a894bd"
      },
      "execution_count": null,
      "outputs": [
        {
          "output_type": "stream",
          "name": "stdout",
          "text": [
            "I like bananas\n",
            "True\n",
            "False\n"
          ]
        }
      ]
    },
    {
      "cell_type": "code",
      "source": [
        "s = \"apple banana apple\"\n",
        "print(s.rindex(\"apple\"))"
      ],
      "metadata": {
        "colab": {
          "base_uri": "https://localhost:8080/"
        },
        "id": "DTjssmdUWOlG",
        "outputId": "b747e382-f611-412e-e25a-457ec2f5b370"
      },
      "execution_count": null,
      "outputs": [
        {
          "output_type": "stream",
          "name": "stdout",
          "text": [
            "13\n"
          ]
        }
      ]
    },
    {
      "cell_type": "code",
      "source": [
        "s = \"apple banana apple\"\n",
        "print(s.rfind(\"apple\") )\n"
      ],
      "metadata": {
        "colab": {
          "base_uri": "https://localhost:8080/"
        },
        "id": "KqlFsiKOWepr",
        "outputId": "172f1884-23ea-494b-c272-8b90616b3c8e"
      },
      "execution_count": null,
      "outputs": [
        {
          "output_type": "stream",
          "name": "stdout",
          "text": [
            "13\n",
            "True\n"
          ]
        }
      ]
    },
    {
      "cell_type": "markdown",
      "source": [
        "**string slicing**"
      ],
      "metadata": {
        "id": "CiVpMfRcTlup"
      }
    },
    {
      "cell_type": "code",
      "source": [
        "a=\"Harry Potter and the Goble of Fire\"\n",
        "print(a)"
      ],
      "metadata": {
        "colab": {
          "base_uri": "https://localhost:8080/"
        },
        "id": "GvPiPo9FTrBe",
        "outputId": "66886fa6-21bb-45bc-b506-9525bb92d8a5"
      },
      "execution_count": null,
      "outputs": [
        {
          "output_type": "stream",
          "name": "stdout",
          "text": [
            "Harry Potter and the Goble of Fire\n"
          ]
        }
      ]
    },
    {
      "cell_type": "code",
      "source": [
        "# want to print only harry\n",
        "print(a[0:5])\n",
        "print(a[:5])\n",
        "print(a[6:])"
      ],
      "metadata": {
        "colab": {
          "base_uri": "https://localhost:8080/"
        },
        "id": "cCDYji13T4yN",
        "outputId": "510c6d32-c25f-4a3b-841c-f72173ad93f2"
      },
      "execution_count": null,
      "outputs": [
        {
          "output_type": "stream",
          "name": "stdout",
          "text": [
            "Harry\n",
            "Harry\n",
            "Potter and the Goble of Fire\n"
          ]
        }
      ]
    },
    {
      "cell_type": "code",
      "source": [
        "print(a[-3:])"
      ],
      "metadata": {
        "colab": {
          "base_uri": "https://localhost:8080/"
        },
        "id": "gglktgDIUK7f",
        "outputId": "c5fdc34a-10b9-4a9f-d102-5fb0dd1ca057"
      },
      "execution_count": null,
      "outputs": [
        {
          "output_type": "stream",
          "name": "stdout",
          "text": [
            "ire\n"
          ]
        }
      ]
    },
    {
      "cell_type": "code",
      "source": [
        "b=\"0123456789\"\n",
        "print(b[::2])\n",
        "print(b[:6:2])"
      ],
      "metadata": {
        "colab": {
          "base_uri": "https://localhost:8080/"
        },
        "id": "931oUoxEUWM1",
        "outputId": "2f362858-d309-4141-c825-064ff3a1451f"
      },
      "execution_count": null,
      "outputs": [
        {
          "output_type": "stream",
          "name": "stdout",
          "text": [
            "02468\n",
            "024\n"
          ]
        }
      ]
    },
    {
      "cell_type": "markdown",
      "source": [
        "# **problems**"
      ],
      "metadata": {
        "id": "HyEVY7nRPFnI"
      }
    },
    {
      "cell_type": "markdown",
      "source": [
        "**\"OOTD.YOLO.ASAP.BRB.GTG.OTW\"**"
      ],
      "metadata": {
        "id": "loFTjalVPJRO"
      }
    },
    {
      "cell_type": "code",
      "source": [
        "a=\"OOTD.YOLO.ASAP.BRB.GTG.OTW\"\n"
      ],
      "metadata": {
        "id": "rSe-6XQyQsO5"
      },
      "execution_count": 8,
      "outputs": []
    },
    {
      "cell_type": "markdown",
      "source": [
        "**write a program to separat the following string into coma(,) separated values.**"
      ],
      "metadata": {
        "id": "YdaDuu4dPVbF"
      }
    },
    {
      "cell_type": "code",
      "source": [
        "b=a.split(\".\")\n",
        "print(b)"
      ],
      "metadata": {
        "colab": {
          "base_uri": "https://localhost:8080/"
        },
        "id": "DoksyaAJQvgo",
        "outputId": "fcc20304-537e-4a3d-e2a9-0181882f36d2"
      },
      "execution_count": 9,
      "outputs": [
        {
          "output_type": "stream",
          "name": "stdout",
          "text": [
            "['OOTD', 'YOLO', 'ASAP', 'BRB', 'GTG', 'OTW']\n"
          ]
        }
      ]
    },
    {
      "cell_type": "markdown",
      "source": [
        "**write a program to sort string alphabetically in python.**"
      ],
      "metadata": {
        "id": "2nwEVmUOPjkd"
      }
    },
    {
      "cell_type": "code",
      "source": [
        "b=sorted(a)\n",
        "print(b)"
      ],
      "metadata": {
        "colab": {
          "base_uri": "https://localhost:8080/"
        },
        "id": "bKJ1gsfAQ2YZ",
        "outputId": "32262801-27d4-4305-d990-0431b1430b7d"
      },
      "execution_count": 13,
      "outputs": [
        {
          "output_type": "stream",
          "name": "stdout",
          "text": [
            "['.', '.', '.', '.', '.', 'A', 'A', 'B', 'B', 'D', 'G', 'G', 'L', 'O', 'O', 'O', 'O', 'O', 'P', 'R', 'S', 'T', 'T', 'T', 'W', 'Y']\n"
          ]
        }
      ]
    },
    {
      "cell_type": "markdown",
      "source": [
        "**write a program to remove a given character from a string.**"
      ],
      "metadata": {
        "id": "zyhyPseUPwiG"
      }
    },
    {
      "cell_type": "code",
      "source": [
        "b=\"hello\"\n",
        "c=b.replace(\"l\",\"\")\n",
        "print(c)"
      ],
      "metadata": {
        "colab": {
          "base_uri": "https://localhost:8080/"
        },
        "id": "WfuciWGTQ_el",
        "outputId": "5aa953f3-9eac-4ae0-8232-c3f19f39e332"
      },
      "execution_count": 14,
      "outputs": [
        {
          "output_type": "stream",
          "name": "stdout",
          "text": [
            "heo\n"
          ]
        }
      ]
    },
    {
      "cell_type": "markdown",
      "source": [
        "**\"F.R.I.E.N.D.S\"**"
      ],
      "metadata": {
        "id": "paQ-BDLQP8oW"
      }
    },
    {
      "cell_type": "markdown",
      "source": [
        "**write a program to remove dot(.) from the following string.**"
      ],
      "metadata": {
        "id": "j_mr9pDJQF4u"
      }
    },
    {
      "cell_type": "code",
      "source": [
        "Z=\"F.R.I.E.N.D.S\"\n",
        "b=Z.replace(\".\",\"\")\n",
        "print(b)"
      ],
      "metadata": {
        "colab": {
          "base_uri": "https://localhost:8080/"
        },
        "id": "h2fZMGC_RN7G",
        "outputId": "7f64167a-efe4-449e-c59d-2e23b5d7d70f"
      },
      "execution_count": 15,
      "outputs": [
        {
          "output_type": "stream",
          "name": "stdout",
          "text": [
            "FRIENDS\n"
          ]
        }
      ]
    },
    {
      "cell_type": "markdown",
      "source": [
        "**write a program to check the number of occurrence of string in a string**"
      ],
      "metadata": {
        "id": "08TnzftzQPo_"
      }
    },
    {
      "cell_type": "code",
      "source": [
        "a=\"she sells sea shells by the sea shore\"\n",
        "b=a.count(\"sea\")\n",
        "print(b)"
      ],
      "metadata": {
        "colab": {
          "base_uri": "https://localhost:8080/"
        },
        "id": "8XXAPsiNRUUQ",
        "outputId": "f57d8e67-b887-4a0b-c965-bab0a5a283ca"
      },
      "execution_count": 16,
      "outputs": [
        {
          "output_type": "stream",
          "name": "stdout",
          "text": [
            "2\n"
          ]
        }
      ]
    },
    {
      "cell_type": "markdown",
      "source": [
        "**take an input from a user as a string then, reverse it.**"
      ],
      "metadata": {
        "id": "9zJpSfJ8Rxjy"
      }
    },
    {
      "cell_type": "code",
      "source": [
        "a=input(\"Enter anything here: \")\n",
        "\n",
        "b=a[::-1]\n",
        "print(b)"
      ],
      "metadata": {
        "colab": {
          "base_uri": "https://localhost:8080/"
        },
        "id": "9oNYz4AkSh8T",
        "outputId": "7ff9f105-f652-4c8d-a262-566c5bac1dd7"
      },
      "execution_count": 20,
      "outputs": [
        {
          "output_type": "stream",
          "name": "stdout",
          "text": [
            "Enter anything here: hello \n",
            " olleh\n"
          ]
        }
      ]
    },
    {
      "cell_type": "markdown",
      "source": [
        "**write a program too check if a string contains only digits**"
      ],
      "metadata": {
        "id": "mqCx-XL7R7Mn"
      }
    },
    {
      "cell_type": "code",
      "source": [
        "a=input(\"Enter anything here: \")\n",
        "b=a.isdigit()\n",
        "if b==True:\n",
        "  print(\"contain only digit \")\n",
        "else:\n",
        "  print(\"not contain only digit\")"
      ],
      "metadata": {
        "colab": {
          "base_uri": "https://localhost:8080/"
        },
        "id": "4KIO7ly8ZLzV",
        "outputId": "1885d1ba-aedb-4444-fc13-f6c3dc33fdc2"
      },
      "execution_count": 24,
      "outputs": [
        {
          "output_type": "stream",
          "name": "stdout",
          "text": [
            "Enter anything here: 12\n",
            "contain only digit \n"
          ]
        }
      ]
    },
    {
      "cell_type": "markdown",
      "source": [
        "**write  program to check if a string is palindrome.**"
      ],
      "metadata": {
        "id": "XyXbqumCSDmn"
      }
    },
    {
      "cell_type": "code",
      "source": [
        "a=input(\"Enter anything here: \")\n",
        "b=a[::-1]\n",
        "if a==b:\n",
        "  print(\"palindrome\")\n",
        "else:\n",
        "  print(\"not palindrome\")"
      ],
      "metadata": {
        "colab": {
          "base_uri": "https://localhost:8080/"
        },
        "id": "z-W2XZpJZoXi",
        "outputId": "54d6f74f-0cd5-4da0-d8a4-7313a49ce138"
      },
      "execution_count": 26,
      "outputs": [
        {
          "output_type": "stream",
          "name": "stdout",
          "text": [
            "Enter anything here: madam\n",
            "palindrome\n"
          ]
        }
      ]
    },
    {
      "cell_type": "markdown",
      "source": [
        "**write a program to find number of vowels in a string.**"
      ],
      "metadata": {
        "id": "VzAU6PReSMFp"
      }
    },
    {
      "cell_type": "code",
      "source": [
        "a=input(\"Enter anything here: \")\n",
        "count=0\n",
        "for i in a:\n",
        "  if i==\"a\" or i==\"e\" or i==\"i\" or i==\"o\" or i==\"u\" or i==\"A\" or i==\"E\" or i==\"I\" or i==\"O\" or i==\"U\":\n",
        "    count=count+1\n",
        "print(\"the number of vowels in the folowing string are \",count)"
      ],
      "metadata": {
        "colab": {
          "base_uri": "https://localhost:8080/"
        },
        "id": "oRYet-fSZx6H",
        "outputId": "e208accf-610d-4d07-f0a5-3f78c6c4a028"
      },
      "execution_count": 29,
      "outputs": [
        {
          "output_type": "stream",
          "name": "stdout",
          "text": [
            "Enter anything here: hello\n",
            "the number of vowels in the folowing string are  2\n"
          ]
        }
      ]
    },
    {
      "cell_type": "markdown",
      "source": [
        "**write a program to check if every word in a string begins with a capital letter.**"
      ],
      "metadata": {
        "id": "aiWbAkKWSWTO"
      }
    },
    {
      "cell_type": "code",
      "source": [
        "a=input(\"Enter anything here: \")\n",
        "b=a.istitle()\n",
        "if b==True:\n",
        "  print(\"every word in a string begins with a capital letter\")\n",
        "else:\n",
        "  print(\"not every word in a string begins with a capital letter\")\n",
        ""
      ],
      "metadata": {
        "colab": {
          "base_uri": "https://localhost:8080/"
        },
        "id": "7g6QdllSaYXh",
        "outputId": "0f4e9b79-0f7c-4002-cd64-2f74bfb41dff"
      },
      "execution_count": 31,
      "outputs": [
        {
          "output_type": "stream",
          "name": "stdout",
          "text": [
            "Enter anything here: herry potter\n",
            "not every word in a string begins with a capital letter\n"
          ]
        }
      ]
    }
  ]
}